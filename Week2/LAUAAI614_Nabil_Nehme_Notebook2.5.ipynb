{
  "cells": [
    {
      "cell_type": "markdown",
      "metadata": {
        "id": "view-in-github",
        "colab_type": "text"
      },
      "source": [
        "<a href=\"https://colab.research.google.com/github/nabilnehme/AAI614_Nehme/blob/main/Week2/LAUAAI614_Nabil_Nehme_Notebook2.5.ipynb\" target=\"_parent\"><img src=\"https://colab.research.google.com/assets/colab-badge.svg\" alt=\"Open In Colab\"/></a>"
      ]
    },
    {
      "cell_type": "markdown",
      "metadata": {
        "id": "O1O2gg9B3RmU"
      },
      "source": [
        "# AAI614: Data Science & its Applications"
      ]
    },
    {
      "cell_type": "code",
      "execution_count": 33,
      "metadata": {
        "id": "jZPbiD3e3RmX"
      },
      "outputs": [],
      "source": [
        "import pandas as pd\n",
        "import time\n",
        "import ssl\n",
        "\n",
        "ssl._create_default_https_context = ssl._create_unverified_context"
      ]
    },
    {
      "cell_type": "code",
      "execution_count": 34,
      "metadata": {
        "id": "9zcQ60Ia3RmY"
      },
      "outputs": [],
      "source": [
        "class Timer:\n",
        "    def __enter__(self):\n",
        "        self.start = time.perf_counter()\n",
        "        return self\n",
        "\n",
        "    def __exit__(self, *args):\n",
        "        self.end = time.perf_counter()\n",
        "        self.interval = self.end - self.start"
      ]
    },
    {
      "cell_type": "markdown",
      "metadata": {
        "id": "DAjWiZic3RmZ"
      },
      "source": [
        "##### Read the Parqeut file and time it"
      ]
    },
    {
      "cell_type": "code",
      "execution_count": 35,
      "metadata": {
        "colab": {
          "base_uri": "https://localhost:8080/"
        },
        "id": "rPkOTY_13RmZ",
        "outputId": "e0407031-6e35-48d6-88a4-a63c9d3b2ce8"
      },
      "outputs": [
        {
          "output_type": "stream",
          "name": "stdout",
          "text": [
            "0.14579133500001262\n"
          ]
        }
      ],
      "source": [
        "with Timer() as t_pd:\n",
        "    df = pd.read_parquet('https://raw.githubusercontent.com/harmanani/AAI614/main/Week%202/niaaa-report.parquet')\n",
        "print(t_pd.interval)"
      ]
    },
    {
      "cell_type": "markdown",
      "metadata": {
        "id": "IkO5tz7F3Rma"
      },
      "source": [
        "#### Read the CSV file and time it"
      ]
    },
    {
      "cell_type": "code",
      "execution_count": 36,
      "metadata": {
        "colab": {
          "base_uri": "https://localhost:8080/"
        },
        "id": "uToSFwqD3Rma",
        "outputId": "284a8799-e16d-4488-db65-a9c91826f88b"
      },
      "outputs": [
        {
          "output_type": "stream",
          "name": "stdout",
          "text": [
            "0.15312730799996643\n"
          ]
        }
      ],
      "source": [
        "with Timer() as t_pd:\n",
        "    df = pd.read_csv('https://raw.githubusercontent.com/harmanani/AAI614/main/Week%202/niaaa-report.csv')\n",
        "print(t_pd.interval)"
      ]
    },
    {
      "cell_type": "markdown",
      "metadata": {
        "id": "ALBICiQn3Rmb"
      },
      "source": [
        "#### Read the ZIP file and time it"
      ]
    },
    {
      "cell_type": "code",
      "execution_count": 37,
      "metadata": {
        "colab": {
          "base_uri": "https://localhost:8080/"
        },
        "id": "_O3fNnvL3Rmb",
        "outputId": "40b6e784-a0b5-4789-e48f-08b5d1f47e87"
      },
      "outputs": [
        {
          "output_type": "stream",
          "name": "stdout",
          "text": [
            "0.16394482100031382\n"
          ]
        }
      ],
      "source": [
        "import zipfile\n",
        "with Timer() as t_pd:\n",
        "    df = pd.read_csv('https://raw.githubusercontent.com/harmanani/AAI614/main/Week%202/niaaa-report.zip', compression=\"zip\")\n",
        "print(t_pd.interval)"
      ]
    },
    {
      "cell_type": "markdown",
      "metadata": {
        "id": "uK4hhXUa3Rmc"
      },
      "source": []
    },
    {
      "cell_type": "code",
      "source": [
        "import pandas as pd\n",
        "df = pd.read_csv('/content/age_gender.csv')\n",
        "df.to_csv('age_gender.zip', compression=\"zip\", index=False)"
      ],
      "metadata": {
        "id": "nY2UKE8zU-oC"
      },
      "execution_count": 25,
      "outputs": []
    },
    {
      "cell_type": "code",
      "source": [
        "import pandas as pd\n",
        "df = pd.read_csv('/content/age_gender.csv')\n",
        "df.to_parquet('age_gender.parquet')"
      ],
      "metadata": {
        "id": "O0foM84KU_sB"
      },
      "execution_count": 26,
      "outputs": []
    },
    {
      "cell_type": "code",
      "source": [
        "with Timer() as t_pd:\n",
        "    df = pd.read_parquet('/content/age_gender.parquet')\n",
        "print(t_pd.interval)"
      ],
      "metadata": {
        "colab": {
          "base_uri": "https://localhost:8080/"
        },
        "id": "GZMZ_q0XVVPF",
        "outputId": "b3ba1a9f-f61b-488f-e225-80ee80a67b22"
      },
      "execution_count": 38,
      "outputs": [
        {
          "output_type": "stream",
          "name": "stdout",
          "text": [
            "1.8761879820003742\n"
          ]
        }
      ]
    },
    {
      "cell_type": "code",
      "source": [
        "with Timer() as t_pd:\n",
        "    df = pd.read_csv('/content/age_gender.csv')\n",
        "print(t_pd.interval)"
      ],
      "metadata": {
        "colab": {
          "base_uri": "https://localhost:8080/"
        },
        "id": "FTtPPLbKVVv8",
        "outputId": "6cccebc4-66c6-47ec-e249-e05b4a4c5ad9"
      },
      "execution_count": 39,
      "outputs": [
        {
          "output_type": "stream",
          "name": "stdout",
          "text": [
            "2.3587781280002673\n"
          ]
        }
      ]
    },
    {
      "cell_type": "code",
      "source": [
        "import zipfile\n",
        "with Timer() as t_pd:\n",
        "    df = pd.read_csv('/content/age_gender.zip', compression=\"zip\")\n",
        "print(t_pd.interval)"
      ],
      "metadata": {
        "colab": {
          "base_uri": "https://localhost:8080/"
        },
        "id": "3pqekJkFVZMa",
        "outputId": "46cdf1dd-930c-4898-b3c8-bcf28de5ac24"
      },
      "execution_count": 40,
      "outputs": [
        {
          "output_type": "stream",
          "name": "stdout",
          "text": [
            "3.735826042000099\n"
          ]
        }
      ]
    },
    {
      "cell_type": "code",
      "source": [
        "import os\n",
        "\n",
        "file_path_csv = '/content/age_gender.csv'\n",
        "file_size = os.path.getsize(file_path_csv)\n",
        "\n",
        "print(f\"File size: {file_size} bytes\")\n",
        "\n",
        "file_size_kb = file_size / 1024\n",
        "file_size_mb = file_size / (1024 ** 2)\n",
        "file_size_gb = file_size / (1024 ** 3)\n",
        "\n",
        "print(f\"CSV File size: {file_size_mb:.2f} MB\")\n",
        "\n"
      ],
      "metadata": {
        "colab": {
          "base_uri": "https://localhost:8080/"
        },
        "id": "foWFE1YfZqbj",
        "outputId": "bad7881d-2edf-4d32-ec70-1cbf06d8e9bb"
      },
      "execution_count": 30,
      "outputs": [
        {
          "output_type": "stream",
          "name": "stdout",
          "text": [
            "File size: 199745942 bytes\n",
            "CSV File size: 190.49 MB\n"
          ]
        }
      ]
    },
    {
      "cell_type": "code",
      "source": [
        "file_path_parquet = '/content/age_gender.parquet'\n",
        "file_size = os.path.getsize(file_path_parquet)\n",
        "\n",
        "print(f\"File size: {file_size} bytes\")\n",
        "\n",
        "file_size_kb = file_size / 1024\n",
        "file_size_mb = file_size / (1024 ** 2)\n",
        "file_size_gb = file_size / (1024 ** 3)\n",
        "\n",
        "print(f\"CSV File size: {file_size_mb:.2f} MB\")"
      ],
      "metadata": {
        "colab": {
          "base_uri": "https://localhost:8080/"
        },
        "id": "VYbJ_zEwZ4SZ",
        "outputId": "a8f8a7eb-bca4-49c3-8daf-1e0ac13ba6cf"
      },
      "execution_count": 31,
      "outputs": [
        {
          "output_type": "stream",
          "name": "stdout",
          "text": [
            "File size: 105111116 bytes\n",
            "CSV File size: 100.24 MB\n"
          ]
        }
      ]
    },
    {
      "cell_type": "code",
      "source": [
        "file_path_zip = '/content/age_gender.zip'\n",
        "file_size = os.path.getsize(file_path_zip)\n",
        "\n",
        "print(f\"File size: {file_size} bytes\")\n",
        "\n",
        "file_size_kb = file_size / 1024\n",
        "file_size_mb = file_size / (1024 ** 2)\n",
        "file_size_gb = file_size / (1024 ** 3)\n",
        "\n",
        "print(f\"CSV File size: {file_size_mb:.2f} MB\")"
      ],
      "metadata": {
        "colab": {
          "base_uri": "https://localhost:8080/"
        },
        "id": "Gd4FjQ3nZ9TS",
        "outputId": "ffe67e19-d4c3-48f5-8fac-66e06586944d"
      },
      "execution_count": 32,
      "outputs": [
        {
          "output_type": "stream",
          "name": "stdout",
          "text": [
            "File size: 63003032 bytes\n",
            "CSV File size: 60.08 MB\n"
          ]
        }
      ]
    }
  ],
  "metadata": {
    "kernelspec": {
      "display_name": "Python 3",
      "language": "python",
      "name": "python3"
    },
    "language_info": {
      "codemirror_mode": {
        "name": "ipython",
        "version": 3
      },
      "file_extension": ".py",
      "mimetype": "text/x-python",
      "name": "python",
      "nbconvert_exporter": "python",
      "pygments_lexer": "ipython3",
      "version": "3.10.11"
    },
    "colab": {
      "provenance": [],
      "include_colab_link": true
    }
  },
  "nbformat": 4,
  "nbformat_minor": 0
}